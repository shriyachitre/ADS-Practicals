{
  "nbformat": 4,
  "nbformat_minor": 0,
  "metadata": {
    "colab": {
      "provenance": []
    },
    "kernelspec": {
      "name": "python3",
      "display_name": "Python 3"
    },
    "language_info": {
      "name": "python"
    }
  },
  "cells": [
    {
      "cell_type": "code",
      "execution_count": 1,
      "metadata": {
        "colab": {
          "base_uri": "https://localhost:8080/"
        },
        "id": "BiGNTZaCJ--q",
        "outputId": "2c422a02-c3b8-4367-ca81-b5a8473b7187"
      },
      "outputs": [
        {
          "output_type": "stream",
          "name": "stdout",
          "text": [
            "outliers using z-score are: [48.27, 44.3, 48.17, 50.81, 45.35, 43.11, 48.33]\n"
          ]
        }
      ],
      "source": [
        "import pandas as pd\n",
        "import numpy as np\n",
        "import matplotlib.pyplot as plt\n",
        "import seaborn as sns\n",
        "df = sns.load_dataset(\"tips\")\n",
        "df\n",
        "\n",
        "\n",
        "\n",
        "data=df.total_bill\n",
        "\n",
        "\n",
        "\n",
        "thres=2.5\n",
        "mean = np.mean(data)\n",
        "std = np.std(data)\n",
        "outliers = []\n",
        "for i in data:\n",
        "    z_score=(i-mean)/std\n",
        "    if(np.abs(z_score)>thres):\n",
        "      outliers.append(i)\n",
        "\n",
        "print(\"outliers using z-score are:\",outliers)"
      ]
    }
  ]
}